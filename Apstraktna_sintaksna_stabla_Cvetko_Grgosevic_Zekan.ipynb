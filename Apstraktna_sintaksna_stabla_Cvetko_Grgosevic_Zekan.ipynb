{
 "cells": [
  {
   "cell_type": "markdown",
   "metadata": {},
   "source": [
    "# Apstraktna sintaksna stabla - izrada _mini_ programskog jezika"
   ]
  },
  {
   "cell_type": "markdown",
   "metadata": {},
   "source": [
    "U ovom radu bilo je potrebno implementirati mini programski jezik koji podržava nekoliko funkcionalnosti koje zapravo ima svaki programski jezik. Također bilo je potrebno napraviti jednostavni vizualizator apstraktnih sintaksnih stabala (AST, eng. abstract syntax tree).\n",
    "\n",
    "\n",
    "Apstraktna stabla se baziraju na korjenskim stablima iz teorije grafova gdje unutrašnje vrhove predstavljaju operatori (+, -, *, /), a listove predstavljaju operandi (2, 5, 4). Apstraktna sintaksna stabla se koriste za određivanje redoslijeda izvođenja operacija i za prikaz unutrašnje strukture programskog jezika te predstavljaju temeljni dio svakog interpretera. \n",
    "\n",
    "\n",
    "Mini programski jezik je trebao podržavati sljedeće funkcionalnosti: \n",
    "* Rad s binarnim aritemetičkim operatorima (+, -, *, /)\n",
    "* Inicijalizaciju varijabli (npr. x=2, y=3).\n",
    "* IF-THEN-ELSE izraz\n",
    "\n",
    "\n",
    "Zadatke je bilo potrebno implementirati u bilo kojem programskom jeziku te smo sukladno tome koristili Python koji sadrži biblioteke za izradu apstraktnih sintaksnih stabala. Za vizualizaciju, odnosno grafički prikaz stabala, smo koristili 3rd-party biblioteku Graphviz. Rješenje zadataka je napravljeno kao IPython bilježnica unutar open-source web aplikacije Jupyter Notebook. U daljnjem radu bilo je potrebno riješiti 4 zadatka koristeći Lexer i Parser koji će u nastavku biti objašnjeni. \n",
    "\n",
    "\n",
    "Programski kod nalazi se na sljedećoj GitHub poveznici - https://github.com/marzekan/AST_mini_programski_jezik"
   ]
  },
  {
   "cell_type": "markdown",
   "metadata": {},
   "source": [
    "## Lexer"
   ]
  },
  {
   "cell_type": "markdown",
   "metadata": {},
   "source": [
    "Lexseri se koriste kako bi prepoznale riječi koji se koriste u mini programskom jeziku, odnosno u jeziku koji sami stvaramo. Korištenje reguralnih izraza je dobar način na koji je moguće uvesti jezične strukture."
   ]
  },
  {
   "cell_type": "code",
   "execution_count": 54,
   "metadata": {},
   "outputs": [],
   "source": [
    "from rply import LexerGenerator\n",
    "import re\n",
    "\n",
    "import warnings\n",
    "warnings.filterwarnings('ignore')"
   ]
  },
  {
   "cell_type": "markdown",
   "metadata": {},
   "source": [
    "Za kreiranje lexer-a i parser-a koristili smo _Python_ modul _rply_ (https://rply.readthedocs.io/en/latest/) koji sadrži korisne klase kao što su _LexerGenerator_ i _ParserGenerator_. Navedenim klasama kreirali smo leksigrafske izraze (tokene) i sintaksna pravila jezika."
   ]
  },
  {
   "cell_type": "markdown",
   "metadata": {},
   "source": [
    "Sljedeći programski isječak sadrži deklaracije leksičkih tokena koje naš programki jezik poznaje. Pomoću lg.add(_name_ , _value_ ) metode kreirali smo nekolicinu _tokena_ tako da smo kao prvi parametar proslijedili naziv ( _name_ ) tokena te definirali njegovu točnu vrijednost ( _value_ ) pomoću regularnih izraza."
   ]
  },
  {
   "cell_type": "code",
   "execution_count": 55,
   "metadata": {},
   "outputs": [],
   "source": [
    "lg = LexerGenerator()\n",
    "\n",
    "lg.add(\"NUMBER\", r'\\d+')\n",
    "lg.add(\"PLUS\", r'\\+')\n",
    "lg.add(\"MINUS\", r'\\-')\n",
    "lg.add(\"MULT\", r'\\*')\n",
    "lg.add(\"DIV\", r'\\/')\n",
    "\n",
    "lg.add(\"MOD\", r'\\b\\%\\b')\n",
    "\n",
    "lg.add(\"LPAR\", r'\\(')\n",
    "lg.add(\"RPAR\", r'\\)')\n",
    "\n",
    "lg.add(\"EQ\", r'\\b\\==\\b')\n",
    "lg.add(\"NEQ\", r'\\b\\!=\\b')\n",
    "lg.add(\"LESSTH\", r'\\b\\<\\b')\n",
    "lg.add(\"GREATTH\", r'\\b\\>\\b')\n",
    "lg.add(\"LESSEQ\", r'\\b\\<=\\b')\n",
    "lg.add(\"GREATEQ\", r'\\b\\>=\\b')\n",
    "\n",
    "lg.add(\"IF\", r'\\b(\\w?IF\\w?)\\b')\n",
    "lg.add(\"ELSE\", r'\\b(\\w?ELSE\\w?)\\b')\n",
    "lg.add(\"THEN\", r'\\b(\\w?THEN\\w?)\\b')\n",
    "\n",
    "lg.add(\"IDENTIFIER\", re.compile(r'\\w+?', re.MULTILINE))\n",
    "lg.add(\"ASSGN\", r'\\b\\=\\b')\n",
    "\n",
    "lg.ignore(r'\\s+')\n",
    "\n",
    "KEYWORDS = ['IF', 'THEN', 'ELSE']\n",
    "OPERATORS = ['PLUS', 'MINUS', 'MULT', 'DIV']\n",
    "\n",
    "lexer = lg.build()"
   ]
  },
  {
   "cell_type": "markdown",
   "metadata": {},
   "source": [
    "Programski isječci u sljedeće tri ćelije deklariraju klase _Number_ i _BinaryOp_. _Number_ klasa definira cijele brojeve kao temeljni izraz _mini_ programskog jezika dok _BinaryOp_ definira predložak svih binarnih opercija.\n",
    "\n"
   ]
  },
  {
   "cell_type": "code",
   "execution_count": 56,
   "metadata": {},
   "outputs": [],
   "source": [
    "from rply.token import BaseBox"
   ]
  },
  {
   "cell_type": "code",
   "execution_count": 57,
   "metadata": {},
   "outputs": [],
   "source": [
    "class Number(BaseBox):\n",
    "    def __init__(self, value):\n",
    "        self.value = value\n",
    "        \n",
    "    def __repr__(self):\n",
    "        return f'{self.value}'"
   ]
  },
  {
   "cell_type": "code",
   "execution_count": 58,
   "metadata": {},
   "outputs": [],
   "source": [
    "class BinaryOp(BaseBox):\n",
    "    def __init__(self, left, op_tok, right):\n",
    "        self.left = left\n",
    "        self.op_tok = op_tok\n",
    "        self.right = rightb\n",
    "        \n",
    "    def __repr__(self):\n",
    "        return f'({self.left}, {self.op_tok}, {self.right})'"
   ]
  },
  {
   "cell_type": "markdown",
   "metadata": {},
   "source": [
    "## Parser"
   ]
  },
  {
   "cell_type": "markdown",
   "metadata": {},
   "source": [
    "Parseri se koriste kako bi se prepoznale strukture jezičnih izraza. Prilikom izvođenja parsera, parser uzima ulazne podatke u obliku niza znakova, provjerava ih prema postavljenih sintaksnih pravila napisanog jezika i pretvara ih u pripadne reprezente, točnije riječi koje lexser prepozna stavnja u kontekst prema postavljenim sintaksnim pravilima. Kako bi uspješno izradili zadatak koristili smo BNF (Backus-Naur formu) kako bi točno odredili sintaksna pravila _mini_ jezika."
   ]
  },
  {
   "cell_type": "markdown",
   "metadata": {},
   "source": [
    "Sintaksna pravila jezika definirana su u dekoratorima tipa _pg.production()_. Dekoratori sadrže točna pravila prema kojima parser gradi sintaksno stablo, dok same funkcije vraćaju definirane vrijednosti izraza."
   ]
  },
  {
   "cell_type": "code",
   "execution_count": 59,
   "metadata": {},
   "outputs": [],
   "source": [
    "from rply import ParserGenerator"
   ]
  },
  {
   "cell_type": "code",
   "execution_count": 60,
   "metadata": {},
   "outputs": [],
   "source": [
    "pg = ParserGenerator(\n",
    "    \n",
    "    ['NUMBER', 'PLUS', 'MINUS', 'MULT', 'DIV',\n",
    "     'LPAR', 'RPAR', 'IDENTIFIER', 'ASSGN', 'EQ',\n",
    "     'IF', 'ELSE', 'THEN', 'NEQ', 'LESSTH', 'GREATTH',\n",
    "     'LESSEQ', 'GREATEQ', 'MOD'\n",
    "    ],\n",
    "    \n",
    "    precedence=[\n",
    "        ('left', ['PLUS', 'MINUS']),\n",
    "        ('left', ['MULT', 'DIV'])\n",
    "    ]\n",
    ")\n",
    "\n",
    "@pg.production('expression : IDENTIFIER ASSGN expression')\n",
    "def variable_assign(p):\n",
    "    return (p[0].value,p[2])\n",
    "\n",
    "\n",
    "@pg.production('expression : LPAR expression RPAR')\n",
    "def expression_perens(p):\n",
    "    return p[1]\n",
    "\n",
    "@pg.production('expression : expression PLUS expression')\n",
    "@pg.production('expression : expression MINUS expression')\n",
    "@pg.production('expression : expression MULT expression')\n",
    "@pg.production('expression : expression DIV expression')\n",
    "@pg.production('expression : expression EQ expression')\n",
    "@pg.production('expression : expression NEQ expression')\n",
    "@pg.production('expression : expression LESSTH expression')\n",
    "@pg.production('expression : expression GREATTH expression')\n",
    "@pg.production('expression : expression LESSEQ expression')\n",
    "@pg.production('expression : expression GREATEQ expression')\n",
    "@pg.production('expression : expression MOD expression')\n",
    "def expression(p):\n",
    "    \n",
    "        left = p[0]\n",
    "        right = p[2]\n",
    "        operator = p[1]\n",
    "            \n",
    "        return (left, operator.name, right)  \n",
    "\n",
    "\n",
    "@pg.production('expression : IF expression THEN expression ELSE expression')\n",
    "def cond_expression(p):\n",
    "    return (p[0].name,p[1],p[3],p[5])\n",
    "            \n",
    "@pg.production('expression : NUMBER')\n",
    "def number(p):\n",
    "        return Number(p[0].value)\n",
    "    \n",
    "@pg.production('expression : IDENTIFIER')\n",
    "def var_exp(p):\n",
    "    return p[0].value\n",
    "\n",
    "@pg.production('expression : expression expression', precedence='MULT')\n",
    "def implicirano_mnozenje(p):\n",
    "    return (p[0],'MULT', p[1])"
   ]
  },
  {
   "cell_type": "markdown",
   "metadata": {},
   "source": [
    "Metoda u narednoj ćeliji gradi parser prema ranije definiranim pravilima. Zatim, u zasebnu listu pohranjuje deklarirane varbijable (ako postoje) i njihove vrijednosti (u obliku _tuple_ strukture). Ako izraz sadrži varijable, sljedeći korak je zamjeniti imena varijabli s njihovim vrijednostima u izrazu te kreira apstraktno stablo.\n",
    "\n",
    "Metoda vraća apstraktno sintaksno stablo u obliku ugnježđenih _tuple_ struktura kao rezultat."
   ]
  },
  {
   "cell_type": "code",
   "execution_count": 61,
   "metadata": {
    "scrolled": true
   },
   "outputs": [],
   "source": [
    "def parse_tree(line):\n",
    "    parser = pg.build()\n",
    "    \n",
    "    line = line.split('\\n')\n",
    "    line = filter(None, line)\n",
    "\n",
    "    # lista tuple-a koji su varijable i njihove vrijednosti.\n",
    "    variables = []\n",
    "    expression = None\n",
    "\n",
    "    for l in line:\n",
    "        \n",
    "        expr = parser.parse(lexer.lex(l))\n",
    "        \n",
    "        if len(expr) == 2:\n",
    "            variables.append(expr)\n",
    "        \n",
    "        else:\n",
    "            expression = l\n",
    "            \n",
    "    print(\"Prikaz izraza:\")\n",
    "    print(expression, '\\n')\n",
    "\n",
    "    for var in variables:\n",
    "        expression = expression.replace(var[0], str(var[1]))\n",
    "\n",
    "    print('Lista iniciranih varijabli i njihove vrijednosti:')\n",
    "    print(variables, '\\n')\n",
    "    \n",
    "    print('Prikaz izraza gdje su varijable (ako postoje) zamijenjene s njihovim vrijednostima:')\n",
    "    print(expression, '\\n')\n",
    "\n",
    "    tree = parser.parse(lexer.lex(expression))\n",
    "    \n",
    "    print('Prikaz apstraktnog stabla u obliku ugnježđenih tuple struktura:')\n",
    "    print(tree)\n",
    "    \n",
    "    return tree"
   ]
  },
  {
   "cell_type": "markdown",
   "metadata": {},
   "source": [
    "## Crtanje apstraktnog stabla"
   ]
  },
  {
   "cell_type": "markdown",
   "metadata": {},
   "source": [
    "Ovo poglavlje sadrži metode za crtanje apstraktnih stabala pomoću _python graphviz_ modula. Metode su pisane rekurzivno tako da se stablo gradi neovisno o broju ugnježđenih razina.\n",
    "\n",
    "Prva metoda _build_graph_ jednostavno prolazi kroz apstraktno stablo te kreira vrhove prema operatorima i operandima, te ih međusobno veže kako je parserom defininirano.\n",
    "\n",
    "Metoda _build_if_ gradi stablo kojemu će korijen uvijek biti 'IF' vrh te će uvijek sadržavati vrhove 'True' (THEN) i 'False' (ELSE) kao alternative izvršavanja. Ostatak stabla gradi se pomoću _build_graph_."
   ]
  },
  {
   "cell_type": "code",
   "execution_count": 62,
   "metadata": {},
   "outputs": [],
   "source": [
    "from graphviz import Graph"
   ]
  },
  {
   "cell_type": "code",
   "execution_count": 63,
   "metadata": {},
   "outputs": [],
   "source": [
    "from random import random"
   ]
  },
  {
   "cell_type": "code",
   "execution_count": 64,
   "metadata": {},
   "outputs": [],
   "source": [
    "def build_graph(gr, tup):\n",
    "    \n",
    "    n = random()\n",
    "    \n",
    "    for el in tup:\n",
    "        \n",
    "        if isinstance(el, str):\n",
    "            parent = str(n)\n",
    "            gr.node(parent,el)\n",
    "            \n",
    "            n=random()\n",
    "            \n",
    "            for i in (tup[tup.index(el)-1], tup[tup.index(el)+1]):\n",
    "                if isinstance(i, tuple):\n",
    "                    child = build_graph(gr,i)\n",
    "                    gr.edge(parent,child)\n",
    "\n",
    "                if isinstance(i, Number):\n",
    "                    child = str(n)\n",
    "                    gr.node(child, i.value)\n",
    "                    gr.edge(parent,child)\n",
    "                    \n",
    "                    n=random()\n",
    "                    \n",
    "            return parent"
   ]
  },
  {
   "cell_type": "code",
   "execution_count": 65,
   "metadata": {},
   "outputs": [],
   "source": [
    "def build_if(gr, tup):\n",
    "    \n",
    "    if len(tup)==4:\n",
    "        gr.node('if','IF')\n",
    "        gr.node('then', 'True')\n",
    "        gr.node('else','False')\n",
    "\n",
    "        gr.edge('if', 'then')\n",
    "        gr.edge('if', 'else')\n",
    "        \n",
    "    for elem in tup[1:]:\n",
    "        child = build_graph(gr, elem)\n",
    "        \n",
    "        if tup.index(elem) == 1:\n",
    "            gr.edge('if', child)\n",
    "            \n",
    "        if tup.index(elem) == 2:\n",
    "            gr.edge('then', child)\n",
    "            \n",
    "        if tup.index(elem) == 3:\n",
    "            gr.edge('else', child)\n",
    "        "
   ]
  },
  {
   "cell_type": "markdown",
   "metadata": {},
   "source": [
    "# Zadaci"
   ]
  },
  {
   "cell_type": "markdown",
   "metadata": {},
   "source": [
    "Ovo poglavlje sadrži rješenja zadanih zadataka. Za rješavanje korišten je programski kod iz ranijih poglavlja."
   ]
  },
  {
   "cell_type": "markdown",
   "metadata": {},
   "source": [
    "## Zadatak 1"
   ]
  },
  {
   "cell_type": "markdown",
   "metadata": {},
   "source": [
    "Napisati program tako da radi za sljedeci izraz:\n",
    "                    2*(5-3)+3*(10/2)"
   ]
  },
  {
   "cell_type": "code",
   "execution_count": 66,
   "metadata": {},
   "outputs": [],
   "source": [
    "zadatak1 = \"2*(5-3)+3*(10/2)\""
   ]
  },
  {
   "cell_type": "markdown",
   "metadata": {},
   "source": [
    "Prikaz _tokena_ koje je Lexer pronašao."
   ]
  },
  {
   "cell_type": "code",
   "execution_count": 67,
   "metadata": {},
   "outputs": [
    {
     "name": "stdout",
     "output_type": "stream",
     "text": [
      "Token('NUMBER', '2')\n",
      "Token('MULT', '*')\n",
      "Token('LPAR', '(')\n",
      "Token('NUMBER', '5')\n",
      "Token('MINUS', '-')\n",
      "Token('NUMBER', '3')\n",
      "Token('RPAR', ')')\n",
      "Token('PLUS', '+')\n",
      "Token('NUMBER', '3')\n",
      "Token('MULT', '*')\n",
      "Token('LPAR', '(')\n",
      "Token('NUMBER', '10')\n",
      "Token('DIV', '/')\n",
      "Token('NUMBER', '2')\n",
      "Token('RPAR', ')')\n"
     ]
    }
   ],
   "source": [
    "for token in lexer.lex(zadatak1):\n",
    "    print(token)"
   ]
  },
  {
   "cell_type": "markdown",
   "metadata": {},
   "source": [
    "Generirano sintaksno stablo u obliku ugnježđenih _tuple_ -a"
   ]
  },
  {
   "cell_type": "code",
   "execution_count": 68,
   "metadata": {},
   "outputs": [
    {
     "name": "stdout",
     "output_type": "stream",
     "text": [
      "Prikaz izraza:\n",
      "2*(5-3)+3*(10/2) \n",
      "\n",
      "Lista iniciranih varijabli i njihove vrijednosti:\n",
      "[] \n",
      "\n",
      "Prikaz izraza gdje su varijable (ako postoje) zamijenjene s njihovim vrijednostima:\n",
      "2*(5-3)+3*(10/2) \n",
      "\n",
      "Prikaz apstraktnog stabla u obliku ugnježđenih tuple struktura:\n",
      "((2, 'MULT', (5, 'MINUS', 3)), 'PLUS', (3, 'MULT', (10, 'DIV', 2)))\n"
     ]
    }
   ],
   "source": [
    "ast_stablo = parse_tree(zadatak1)"
   ]
  },
  {
   "cell_type": "markdown",
   "metadata": {},
   "source": [
    "Prikaz apstraktnog sintaksnog stabla izrađenog pomoću _Graphviz_ modula."
   ]
  },
  {
   "cell_type": "code",
   "execution_count": 69,
   "metadata": {
    "scrolled": true
   },
   "outputs": [
    {
     "data": {
      "image/svg+xml": [
       "<?xml version=\"1.0\" encoding=\"UTF-8\" standalone=\"no\"?>\r\n",
       "<!DOCTYPE svg PUBLIC \"-//W3C//DTD SVG 1.1//EN\"\r\n",
       " \"http://www.w3.org/Graphics/SVG/1.1/DTD/svg11.dtd\">\r\n",
       "<!-- Generated by graphviz version 2.38.0 (20140413.2041)\r\n",
       " -->\r\n",
       "<!-- Title: %3 Pages: 1 -->\r\n",
       "<svg width=\"343pt\" height=\"260pt\"\r\n",
       " viewBox=\"0.00 0.00 343.00 260.00\" xmlns=\"http://www.w3.org/2000/svg\" xmlns:xlink=\"http://www.w3.org/1999/xlink\">\r\n",
       "<g id=\"graph0\" class=\"graph\" transform=\"scale(1 1) rotate(0) translate(4 256)\">\r\n",
       "<title>%3</title>\r\n",
       "<polygon fill=\"white\" stroke=\"none\" points=\"-4,4 -4,-256 339,-256 339,4 -4,4\"/>\r\n",
       "<!-- 0.18407185292042483 -->\r\n",
       "<g id=\"node1\" class=\"node\"><title>0.18407185292042483</title>\r\n",
       "<ellipse fill=\"none\" stroke=\"black\" cx=\"155\" cy=\"-234\" rx=\"33.2948\" ry=\"18\"/>\r\n",
       "<text text-anchor=\"middle\" x=\"155\" y=\"-230.3\" font-family=\"Times New Roman,serif\" font-size=\"14.00\">PLUS</text>\r\n",
       "</g>\r\n",
       "<!-- 0.16709310311346504 -->\r\n",
       "<g id=\"node2\" class=\"node\"><title>0.16709310311346504</title>\r\n",
       "<ellipse fill=\"none\" stroke=\"black\" cx=\"110\" cy=\"-162\" rx=\"36.2938\" ry=\"18\"/>\r\n",
       "<text text-anchor=\"middle\" x=\"110\" y=\"-158.3\" font-family=\"Times New Roman,serif\" font-size=\"14.00\">MULT</text>\r\n",
       "</g>\r\n",
       "<!-- 0.18407185292042483&#45;&#45;0.16709310311346504 -->\r\n",
       "<g id=\"edge5\" class=\"edge\"><title>0.18407185292042483&#45;&#45;0.16709310311346504</title>\r\n",
       "<path fill=\"none\" stroke=\"black\" d=\"M144.563,-216.765C137.397,-205.618 127.913,-190.865 120.693,-179.633\"/>\r\n",
       "</g>\r\n",
       "<!-- 0.8596343390320728 -->\r\n",
       "<g id=\"node7\" class=\"node\"><title>0.8596343390320728</title>\r\n",
       "<ellipse fill=\"none\" stroke=\"black\" cx=\"201\" cy=\"-162\" rx=\"36.2938\" ry=\"18\"/>\r\n",
       "<text text-anchor=\"middle\" x=\"201\" y=\"-158.3\" font-family=\"Times New Roman,serif\" font-size=\"14.00\">MULT</text>\r\n",
       "</g>\r\n",
       "<!-- 0.18407185292042483&#45;&#45;0.8596343390320728 -->\r\n",
       "<g id=\"edge10\" class=\"edge\"><title>0.18407185292042483&#45;&#45;0.8596343390320728</title>\r\n",
       "<path fill=\"none\" stroke=\"black\" d=\"M165.669,-216.765C172.994,-205.618 182.689,-190.865 190.069,-179.633\"/>\r\n",
       "</g>\r\n",
       "<!-- 0.4227499534073277 -->\r\n",
       "<g id=\"node3\" class=\"node\"><title>0.4227499534073277</title>\r\n",
       "<ellipse fill=\"none\" stroke=\"black\" cx=\"27\" cy=\"-90\" rx=\"27\" ry=\"18\"/>\r\n",
       "<text text-anchor=\"middle\" x=\"27\" y=\"-86.3\" font-family=\"Times New Roman,serif\" font-size=\"14.00\">2</text>\r\n",
       "</g>\r\n",
       "<!-- 0.16709310311346504&#45;&#45;0.4227499534073277 -->\r\n",
       "<g id=\"edge1\" class=\"edge\"><title>0.16709310311346504&#45;&#45;0.4227499534073277</title>\r\n",
       "<path fill=\"none\" stroke=\"black\" d=\"M92.3978,-146.155C77.8366,-133.874 57.3209,-116.572 43.1694,-104.637\"/>\r\n",
       "</g>\r\n",
       "<!-- 0.6206141516256376 -->\r\n",
       "<g id=\"node4\" class=\"node\"><title>0.6206141516256376</title>\r\n",
       "<ellipse fill=\"none\" stroke=\"black\" cx=\"112\" cy=\"-90\" rx=\"39.7935\" ry=\"18\"/>\r\n",
       "<text text-anchor=\"middle\" x=\"112\" y=\"-86.3\" font-family=\"Times New Roman,serif\" font-size=\"14.00\">MINUS</text>\r\n",
       "</g>\r\n",
       "<!-- 0.16709310311346504&#45;&#45;0.6206141516256376 -->\r\n",
       "<g id=\"edge4\" class=\"edge\"><title>0.16709310311346504&#45;&#45;0.6206141516256376</title>\r\n",
       "<path fill=\"none\" stroke=\"black\" d=\"M110.494,-143.697C110.804,-132.846 111.202,-118.917 111.511,-108.104\"/>\r\n",
       "</g>\r\n",
       "<!-- 0.0427414553493648 -->\r\n",
       "<g id=\"node5\" class=\"node\"><title>0.0427414553493648</title>\r\n",
       "<ellipse fill=\"none\" stroke=\"black\" cx=\"64\" cy=\"-18\" rx=\"27\" ry=\"18\"/>\r\n",
       "<text text-anchor=\"middle\" x=\"64\" y=\"-14.3\" font-family=\"Times New Roman,serif\" font-size=\"14.00\">5</text>\r\n",
       "</g>\r\n",
       "<!-- 0.6206141516256376&#45;&#45;0.0427414553493648 -->\r\n",
       "<g id=\"edge2\" class=\"edge\"><title>0.6206141516256376&#45;&#45;0.0427414553493648</title>\r\n",
       "<path fill=\"none\" stroke=\"black\" d=\"M100.625,-72.411C92.8622,-61.0907 82.6365,-46.1782 74.9633,-34.9881\"/>\r\n",
       "</g>\r\n",
       "<!-- 0.6288333358140564 -->\r\n",
       "<g id=\"node6\" class=\"node\"><title>0.6288333358140564</title>\r\n",
       "<ellipse fill=\"none\" stroke=\"black\" cx=\"136\" cy=\"-18\" rx=\"27\" ry=\"18\"/>\r\n",
       "<text text-anchor=\"middle\" x=\"136\" y=\"-14.3\" font-family=\"Times New Roman,serif\" font-size=\"14.00\">3</text>\r\n",
       "</g>\r\n",
       "<!-- 0.6206141516256376&#45;&#45;0.6288333358140564 -->\r\n",
       "<g id=\"edge3\" class=\"edge\"><title>0.6206141516256376&#45;&#45;0.6288333358140564</title>\r\n",
       "<path fill=\"none\" stroke=\"black\" d=\"M117.81,-72.055C121.583,-61.0492 126.481,-46.7636 130.244,-35.789\"/>\r\n",
       "</g>\r\n",
       "<!-- 0.5531513413688139 -->\r\n",
       "<g id=\"node8\" class=\"node\"><title>0.5531513413688139</title>\r\n",
       "<ellipse fill=\"none\" stroke=\"black\" cx=\"200\" cy=\"-90\" rx=\"27\" ry=\"18\"/>\r\n",
       "<text text-anchor=\"middle\" x=\"200\" y=\"-86.3\" font-family=\"Times New Roman,serif\" font-size=\"14.00\">3</text>\r\n",
       "</g>\r\n",
       "<!-- 0.8596343390320728&#45;&#45;0.5531513413688139 -->\r\n",
       "<g id=\"edge6\" class=\"edge\"><title>0.8596343390320728&#45;&#45;0.5531513413688139</title>\r\n",
       "<path fill=\"none\" stroke=\"black\" d=\"M200.753,-143.697C200.598,-132.846 200.399,-118.917 200.244,-108.104\"/>\r\n",
       "</g>\r\n",
       "<!-- 0.4761947894796503 -->\r\n",
       "<g id=\"node9\" class=\"node\"><title>0.4761947894796503</title>\r\n",
       "<ellipse fill=\"none\" stroke=\"black\" cx=\"272\" cy=\"-90\" rx=\"27\" ry=\"18\"/>\r\n",
       "<text text-anchor=\"middle\" x=\"272\" y=\"-86.3\" font-family=\"Times New Roman,serif\" font-size=\"14.00\">DIV</text>\r\n",
       "</g>\r\n",
       "<!-- 0.8596343390320728&#45;&#45;0.4761947894796503 -->\r\n",
       "<g id=\"edge9\" class=\"edge\"><title>0.8596343390320728&#45;&#45;0.4761947894796503</title>\r\n",
       "<path fill=\"none\" stroke=\"black\" d=\"M216.757,-145.465C228.85,-133.542 245.424,-117.202 257.256,-105.536\"/>\r\n",
       "</g>\r\n",
       "<!-- 0.3270022468278254 -->\r\n",
       "<g id=\"node10\" class=\"node\"><title>0.3270022468278254</title>\r\n",
       "<ellipse fill=\"none\" stroke=\"black\" cx=\"236\" cy=\"-18\" rx=\"27\" ry=\"18\"/>\r\n",
       "<text text-anchor=\"middle\" x=\"236\" y=\"-14.3\" font-family=\"Times New Roman,serif\" font-size=\"14.00\">10</text>\r\n",
       "</g>\r\n",
       "<!-- 0.4761947894796503&#45;&#45;0.3270022468278254 -->\r\n",
       "<g id=\"edge7\" class=\"edge\"><title>0.4761947894796503&#45;&#45;0.3270022468278254</title>\r\n",
       "<path fill=\"none\" stroke=\"black\" d=\"M263.65,-72.7646C257.835,-61.456 250.11,-46.4367 244.304,-35.1473\"/>\r\n",
       "</g>\r\n",
       "<!-- 0.5401198151522366 -->\r\n",
       "<g id=\"node11\" class=\"node\"><title>0.5401198151522366</title>\r\n",
       "<ellipse fill=\"none\" stroke=\"black\" cx=\"308\" cy=\"-18\" rx=\"27\" ry=\"18\"/>\r\n",
       "<text text-anchor=\"middle\" x=\"308\" y=\"-14.3\" font-family=\"Times New Roman,serif\" font-size=\"14.00\">2</text>\r\n",
       "</g>\r\n",
       "<!-- 0.4761947894796503&#45;&#45;0.5401198151522366 -->\r\n",
       "<g id=\"edge8\" class=\"edge\"><title>0.4761947894796503&#45;&#45;0.5401198151522366</title>\r\n",
       "<path fill=\"none\" stroke=\"black\" d=\"M280.35,-72.7646C286.165,-61.456 293.89,-46.4367 299.696,-35.1473\"/>\r\n",
       "</g>\r\n",
       "</g>\r\n",
       "</svg>\r\n"
      ],
      "text/plain": [
       "<graphviz.dot.Graph at 0x1e46db64ac8>"
      ]
     },
     "execution_count": 69,
     "metadata": {},
     "output_type": "execute_result"
    }
   ],
   "source": [
    "# Iniciranje graphviz.Graph objekta.\n",
    "graf = Graph()\n",
    "\n",
    "build_graph(graf, ast_stablo)\n",
    "\n",
    "# Crtanje grafa.\n",
    "graf"
   ]
  },
  {
   "cell_type": "markdown",
   "metadata": {},
   "source": [
    "## Zadatak 2"
   ]
  },
  {
   "cell_type": "markdown",
   "metadata": {},
   "source": [
    "Dopuniti programski kod iz prvog zadatka tako da podržava inicijalizaciju varijabli:\n",
    "\n",
    "                    x = 2\n",
    "                    y = 3\n",
    "          (x*2)+(y-4)-((7+4)*x-y*(10+x))"
   ]
  },
  {
   "cell_type": "code",
   "execution_count": 70,
   "metadata": {},
   "outputs": [],
   "source": [
    "zadatak2 = '''\n",
    "        x=2\n",
    "        y=3\n",
    "(x*2)+(y-4)-((7+4)*x-y*(10+x))\n",
    "'''"
   ]
  },
  {
   "cell_type": "code",
   "execution_count": 71,
   "metadata": {},
   "outputs": [
    {
     "name": "stdout",
     "output_type": "stream",
     "text": [
      "Prikaz izraza:\n",
      "(x*2)+(y-4)-((7+4)*x-y*(10+x)) \n",
      "\n",
      "Lista iniciranih varijabli i njihove vrijednosti:\n",
      "[('x', 2), ('y', 3)] \n",
      "\n",
      "Prikaz izraza gdje su varijable (ako postoje) zamijenjene s njihovim vrijednostima:\n",
      "(2*2)+(3-4)-((7+4)*2-3*(10+2)) \n",
      "\n",
      "Prikaz apstraktnog stabla u obliku ugnježđenih tuple struktura:\n",
      "(((2, 'MULT', 2), 'PLUS', (3, 'MINUS', 4)), 'MINUS', (((7, 'PLUS', 4), 'MULT', 2), 'MINUS', (3, 'MULT', (10, 'PLUS', 2))))\n"
     ]
    }
   ],
   "source": [
    "ast_stablo2 = parse_tree(zadatak2)"
   ]
  },
  {
   "cell_type": "code",
   "execution_count": 72,
   "metadata": {},
   "outputs": [
    {
     "data": {
      "image/svg+xml": [
       "<?xml version=\"1.0\" encoding=\"UTF-8\" standalone=\"no\"?>\r\n",
       "<!DOCTYPE svg PUBLIC \"-//W3C//DTD SVG 1.1//EN\"\r\n",
       " \"http://www.w3.org/Graphics/SVG/1.1/DTD/svg11.dtd\">\r\n",
       "<!-- Generated by graphviz version 2.38.0 (20140413.2041)\r\n",
       " -->\r\n",
       "<!-- Title: %3 Pages: 1 -->\r\n",
       "<svg width=\"620pt\" height=\"332pt\"\r\n",
       " viewBox=\"0.00 0.00 620.00 332.00\" xmlns=\"http://www.w3.org/2000/svg\" xmlns:xlink=\"http://www.w3.org/1999/xlink\">\r\n",
       "<g id=\"graph0\" class=\"graph\" transform=\"scale(1 1) rotate(0) translate(4 328)\">\r\n",
       "<title>%3</title>\r\n",
       "<polygon fill=\"white\" stroke=\"none\" points=\"-4,4 -4,-328 616,-328 616,4 -4,4\"/>\r\n",
       "<!-- 0.8234380729114074 -->\r\n",
       "<g id=\"node1\" class=\"node\"><title>0.8234380729114074</title>\r\n",
       "<ellipse fill=\"none\" stroke=\"black\" cx=\"281\" cy=\"-306\" rx=\"39.7935\" ry=\"18\"/>\r\n",
       "<text text-anchor=\"middle\" x=\"281\" y=\"-302.3\" font-family=\"Times New Roman,serif\" font-size=\"14.00\">MINUS</text>\r\n",
       "</g>\r\n",
       "<!-- 0.7985629225808162 -->\r\n",
       "<g id=\"node2\" class=\"node\"><title>0.7985629225808162</title>\r\n",
       "<ellipse fill=\"none\" stroke=\"black\" cx=\"226\" cy=\"-234\" rx=\"33.2948\" ry=\"18\"/>\r\n",
       "<text text-anchor=\"middle\" x=\"226\" y=\"-230.3\" font-family=\"Times New Roman,serif\" font-size=\"14.00\">PLUS</text>\r\n",
       "</g>\r\n",
       "<!-- 0.8234380729114074&#45;&#45;0.7985629225808162 -->\r\n",
       "<g id=\"edge7\" class=\"edge\"><title>0.8234380729114074&#45;&#45;0.7985629225808162</title>\r\n",
       "<path fill=\"none\" stroke=\"black\" d=\"M268.244,-288.765C259.358,-277.456 247.557,-262.437 238.687,-251.147\"/>\r\n",
       "</g>\r\n",
       "<!-- 0.8415659222353453 -->\r\n",
       "<g id=\"node9\" class=\"node\"><title>0.8415659222353453</title>\r\n",
       "<ellipse fill=\"none\" stroke=\"black\" cx=\"337\" cy=\"-234\" rx=\"39.7935\" ry=\"18\"/>\r\n",
       "<text text-anchor=\"middle\" x=\"337\" y=\"-230.3\" font-family=\"Times New Roman,serif\" font-size=\"14.00\">MINUS</text>\r\n",
       "</g>\r\n",
       "<!-- 0.8234380729114074&#45;&#45;0.8415659222353453 -->\r\n",
       "<g id=\"edge18\" class=\"edge\"><title>0.8234380729114074&#45;&#45;0.8415659222353453</title>\r\n",
       "<path fill=\"none\" stroke=\"black\" d=\"M293.988,-288.765C303.035,-277.456 315.051,-262.437 324.082,-251.147\"/>\r\n",
       "</g>\r\n",
       "<!-- 0.5756975593124524 -->\r\n",
       "<g id=\"node3\" class=\"node\"><title>0.5756975593124524</title>\r\n",
       "<ellipse fill=\"none\" stroke=\"black\" cx=\"99\" cy=\"-162\" rx=\"36.2938\" ry=\"18\"/>\r\n",
       "<text text-anchor=\"middle\" x=\"99\" y=\"-158.3\" font-family=\"Times New Roman,serif\" font-size=\"14.00\">MULT</text>\r\n",
       "</g>\r\n",
       "<!-- 0.7985629225808162&#45;&#45;0.5756975593124524 -->\r\n",
       "<g id=\"edge3\" class=\"edge\"><title>0.7985629225808162&#45;&#45;0.5756975593124524</title>\r\n",
       "<path fill=\"none\" stroke=\"black\" d=\"M203.587,-220.647C180.8,-208.087 145.643,-188.709 122.479,-175.941\"/>\r\n",
       "</g>\r\n",
       "<!-- 0.49792806971864245 -->\r\n",
       "<g id=\"node6\" class=\"node\"><title>0.49792806971864245</title>\r\n",
       "<ellipse fill=\"none\" stroke=\"black\" cx=\"226\" cy=\"-162\" rx=\"39.7935\" ry=\"18\"/>\r\n",
       "<text text-anchor=\"middle\" x=\"226\" y=\"-158.3\" font-family=\"Times New Roman,serif\" font-size=\"14.00\">MINUS</text>\r\n",
       "</g>\r\n",
       "<!-- 0.7985629225808162&#45;&#45;0.49792806971864245 -->\r\n",
       "<g id=\"edge6\" class=\"edge\"><title>0.7985629225808162&#45;&#45;0.49792806971864245</title>\r\n",
       "<path fill=\"none\" stroke=\"black\" d=\"M226,-215.697C226,-204.846 226,-190.917 226,-180.104\"/>\r\n",
       "</g>\r\n",
       "<!-- 0.42174731005584676 -->\r\n",
       "<g id=\"node4\" class=\"node\"><title>0.42174731005584676</title>\r\n",
       "<ellipse fill=\"none\" stroke=\"black\" cx=\"27\" cy=\"-90\" rx=\"27\" ry=\"18\"/>\r\n",
       "<text text-anchor=\"middle\" x=\"27\" y=\"-86.3\" font-family=\"Times New Roman,serif\" font-size=\"14.00\">2</text>\r\n",
       "</g>\r\n",
       "<!-- 0.5756975593124524&#45;&#45;0.42174731005584676 -->\r\n",
       "<g id=\"edge1\" class=\"edge\"><title>0.5756975593124524&#45;&#45;0.42174731005584676</title>\r\n",
       "<path fill=\"none\" stroke=\"black\" d=\"M83.0209,-145.465C70.7578,-133.542 53.9501,-117.202 41.9512,-105.536\"/>\r\n",
       "</g>\r\n",
       "<!-- 0.20173764375141856 -->\r\n",
       "<g id=\"node5\" class=\"node\"><title>0.20173764375141856</title>\r\n",
       "<ellipse fill=\"none\" stroke=\"black\" cx=\"99\" cy=\"-90\" rx=\"27\" ry=\"18\"/>\r\n",
       "<text text-anchor=\"middle\" x=\"99\" y=\"-86.3\" font-family=\"Times New Roman,serif\" font-size=\"14.00\">2</text>\r\n",
       "</g>\r\n",
       "<!-- 0.5756975593124524&#45;&#45;0.20173764375141856 -->\r\n",
       "<g id=\"edge2\" class=\"edge\"><title>0.5756975593124524&#45;&#45;0.20173764375141856</title>\r\n",
       "<path fill=\"none\" stroke=\"black\" d=\"M99,-143.697C99,-132.846 99,-118.917 99,-108.104\"/>\r\n",
       "</g>\r\n",
       "<!-- 0.7555863570023924 -->\r\n",
       "<g id=\"node7\" class=\"node\"><title>0.7555863570023924</title>\r\n",
       "<ellipse fill=\"none\" stroke=\"black\" cx=\"171\" cy=\"-90\" rx=\"27\" ry=\"18\"/>\r\n",
       "<text text-anchor=\"middle\" x=\"171\" y=\"-86.3\" font-family=\"Times New Roman,serif\" font-size=\"14.00\">3</text>\r\n",
       "</g>\r\n",
       "<!-- 0.49792806971864245&#45;&#45;0.7555863570023924 -->\r\n",
       "<g id=\"edge4\" class=\"edge\"><title>0.49792806971864245&#45;&#45;0.7555863570023924</title>\r\n",
       "<path fill=\"none\" stroke=\"black\" d=\"M213.244,-144.765C204.104,-133.133 191.881,-117.575 182.934,-106.189\"/>\r\n",
       "</g>\r\n",
       "<!-- 0.29897564070711014 -->\r\n",
       "<g id=\"node8\" class=\"node\"><title>0.29897564070711014</title>\r\n",
       "<ellipse fill=\"none\" stroke=\"black\" cx=\"243\" cy=\"-90\" rx=\"27\" ry=\"18\"/>\r\n",
       "<text text-anchor=\"middle\" x=\"243\" y=\"-86.3\" font-family=\"Times New Roman,serif\" font-size=\"14.00\">4</text>\r\n",
       "</g>\r\n",
       "<!-- 0.49792806971864245&#45;&#45;0.29897564070711014 -->\r\n",
       "<g id=\"edge5\" class=\"edge\"><title>0.49792806971864245&#45;&#45;0.29897564070711014</title>\r\n",
       "<path fill=\"none\" stroke=\"black\" d=\"M230.115,-144.055C232.749,-133.211 236.156,-119.183 238.805,-108.275\"/>\r\n",
       "</g>\r\n",
       "<!-- 0.3862701951387637 -->\r\n",
       "<g id=\"node10\" class=\"node\"><title>0.3862701951387637</title>\r\n",
       "<ellipse fill=\"none\" stroke=\"black\" cx=\"337\" cy=\"-162\" rx=\"36.2938\" ry=\"18\"/>\r\n",
       "<text text-anchor=\"middle\" x=\"337\" y=\"-158.3\" font-family=\"Times New Roman,serif\" font-size=\"14.00\">MULT</text>\r\n",
       "</g>\r\n",
       "<!-- 0.8415659222353453&#45;&#45;0.3862701951387637 -->\r\n",
       "<g id=\"edge12\" class=\"edge\"><title>0.8415659222353453&#45;&#45;0.3862701951387637</title>\r\n",
       "<path fill=\"none\" stroke=\"black\" d=\"M337,-215.697C337,-204.846 337,-190.917 337,-180.104\"/>\r\n",
       "</g>\r\n",
       "<!-- 0.8859520762012152 -->\r\n",
       "<g id=\"node15\" class=\"node\"><title>0.8859520762012152</title>\r\n",
       "<ellipse fill=\"none\" stroke=\"black\" cx=\"471\" cy=\"-162\" rx=\"36.2938\" ry=\"18\"/>\r\n",
       "<text text-anchor=\"middle\" x=\"471\" y=\"-158.3\" font-family=\"Times New Roman,serif\" font-size=\"14.00\">MULT</text>\r\n",
       "</g>\r\n",
       "<!-- 0.8415659222353453&#45;&#45;0.8859520762012152 -->\r\n",
       "<g id=\"edge17\" class=\"edge\"><title>0.8415659222353453&#45;&#45;0.8859520762012152</title>\r\n",
       "<path fill=\"none\" stroke=\"black\" d=\"M362.204,-219.834C386.465,-207.16 422.898,-188.128 446.811,-175.636\"/>\r\n",
       "</g>\r\n",
       "<!-- 0.9882579712446818 -->\r\n",
       "<g id=\"node11\" class=\"node\"><title>0.9882579712446818</title>\r\n",
       "<ellipse fill=\"none\" stroke=\"black\" cx=\"321\" cy=\"-90\" rx=\"33.2948\" ry=\"18\"/>\r\n",
       "<text text-anchor=\"middle\" x=\"321\" y=\"-86.3\" font-family=\"Times New Roman,serif\" font-size=\"14.00\">PLUS</text>\r\n",
       "</g>\r\n",
       "<!-- 0.3862701951387637&#45;&#45;0.9882579712446818 -->\r\n",
       "<g id=\"edge10\" class=\"edge\"><title>0.3862701951387637&#45;&#45;0.9882579712446818</title>\r\n",
       "<path fill=\"none\" stroke=\"black\" d=\"M333.127,-144.055C330.648,-133.211 327.442,-119.183 324.949,-108.275\"/>\r\n",
       "</g>\r\n",
       "<!-- 0.5305444226149312 -->\r\n",
       "<g id=\"node14\" class=\"node\"><title>0.5305444226149312</title>\r\n",
       "<ellipse fill=\"none\" stroke=\"black\" cx=\"399\" cy=\"-90\" rx=\"27\" ry=\"18\"/>\r\n",
       "<text text-anchor=\"middle\" x=\"399\" y=\"-86.3\" font-family=\"Times New Roman,serif\" font-size=\"14.00\">2</text>\r\n",
       "</g>\r\n",
       "<!-- 0.3862701951387637&#45;&#45;0.5305444226149312 -->\r\n",
       "<g id=\"edge11\" class=\"edge\"><title>0.3862701951387637&#45;&#45;0.5305444226149312</title>\r\n",
       "<path fill=\"none\" stroke=\"black\" d=\"M351.069,-145.116C361.501,-133.337 375.624,-117.392 385.835,-105.864\"/>\r\n",
       "</g>\r\n",
       "<!-- 0.37082468297361404 -->\r\n",
       "<g id=\"node12\" class=\"node\"><title>0.37082468297361404</title>\r\n",
       "<ellipse fill=\"none\" stroke=\"black\" cx=\"285\" cy=\"-18\" rx=\"27\" ry=\"18\"/>\r\n",
       "<text text-anchor=\"middle\" x=\"285\" y=\"-14.3\" font-family=\"Times New Roman,serif\" font-size=\"14.00\">7</text>\r\n",
       "</g>\r\n",
       "<!-- 0.9882579712446818&#45;&#45;0.37082468297361404 -->\r\n",
       "<g id=\"edge8\" class=\"edge\"><title>0.9882579712446818&#45;&#45;0.37082468297361404</title>\r\n",
       "<path fill=\"none\" stroke=\"black\" d=\"M312.469,-72.411C306.73,-61.2524 299.196,-46.6036 293.47,-35.4699\"/>\r\n",
       "</g>\r\n",
       "<!-- 0.9526077638248363 -->\r\n",
       "<g id=\"node13\" class=\"node\"><title>0.9526077638248363</title>\r\n",
       "<ellipse fill=\"none\" stroke=\"black\" cx=\"357\" cy=\"-18\" rx=\"27\" ry=\"18\"/>\r\n",
       "<text text-anchor=\"middle\" x=\"357\" y=\"-14.3\" font-family=\"Times New Roman,serif\" font-size=\"14.00\">4</text>\r\n",
       "</g>\r\n",
       "<!-- 0.9882579712446818&#45;&#45;0.9526077638248363 -->\r\n",
       "<g id=\"edge9\" class=\"edge\"><title>0.9882579712446818&#45;&#45;0.9526077638248363</title>\r\n",
       "<path fill=\"none\" stroke=\"black\" d=\"M329.531,-72.411C335.27,-61.2524 342.804,-46.6036 348.53,-35.4699\"/>\r\n",
       "</g>\r\n",
       "<!-- 0.13304703959721886 -->\r\n",
       "<g id=\"node16\" class=\"node\"><title>0.13304703959721886</title>\r\n",
       "<ellipse fill=\"none\" stroke=\"black\" cx=\"471\" cy=\"-90\" rx=\"27\" ry=\"18\"/>\r\n",
       "<text text-anchor=\"middle\" x=\"471\" y=\"-86.3\" font-family=\"Times New Roman,serif\" font-size=\"14.00\">3</text>\r\n",
       "</g>\r\n",
       "<!-- 0.8859520762012152&#45;&#45;0.13304703959721886 -->\r\n",
       "<g id=\"edge13\" class=\"edge\"><title>0.8859520762012152&#45;&#45;0.13304703959721886</title>\r\n",
       "<path fill=\"none\" stroke=\"black\" d=\"M471,-143.697C471,-132.846 471,-118.917 471,-108.104\"/>\r\n",
       "</g>\r\n",
       "<!-- 0.5149658127045968 -->\r\n",
       "<g id=\"node17\" class=\"node\"><title>0.5149658127045968</title>\r\n",
       "<ellipse fill=\"none\" stroke=\"black\" cx=\"549\" cy=\"-90\" rx=\"33.2948\" ry=\"18\"/>\r\n",
       "<text text-anchor=\"middle\" x=\"549\" y=\"-86.3\" font-family=\"Times New Roman,serif\" font-size=\"14.00\">PLUS</text>\r\n",
       "</g>\r\n",
       "<!-- 0.8859520762012152&#45;&#45;0.5149658127045968 -->\r\n",
       "<g id=\"edge16\" class=\"edge\"><title>0.8859520762012152&#45;&#45;0.5149658127045968</title>\r\n",
       "<path fill=\"none\" stroke=\"black\" d=\"M487.925,-145.811C501.187,-133.909 519.528,-117.449 532.643,-105.68\"/>\r\n",
       "</g>\r\n",
       "<!-- 0.4026538804590716 -->\r\n",
       "<g id=\"node18\" class=\"node\"><title>0.4026538804590716</title>\r\n",
       "<ellipse fill=\"none\" stroke=\"black\" cx=\"513\" cy=\"-18\" rx=\"27\" ry=\"18\"/>\r\n",
       "<text text-anchor=\"middle\" x=\"513\" y=\"-14.3\" font-family=\"Times New Roman,serif\" font-size=\"14.00\">10</text>\r\n",
       "</g>\r\n",
       "<!-- 0.5149658127045968&#45;&#45;0.4026538804590716 -->\r\n",
       "<g id=\"edge14\" class=\"edge\"><title>0.5149658127045968&#45;&#45;0.4026538804590716</title>\r\n",
       "<path fill=\"none\" stroke=\"black\" d=\"M540.469,-72.411C534.73,-61.2524 527.196,-46.6036 521.47,-35.4699\"/>\r\n",
       "</g>\r\n",
       "<!-- 0.2275112189989592 -->\r\n",
       "<g id=\"node19\" class=\"node\"><title>0.2275112189989592</title>\r\n",
       "<ellipse fill=\"none\" stroke=\"black\" cx=\"585\" cy=\"-18\" rx=\"27\" ry=\"18\"/>\r\n",
       "<text text-anchor=\"middle\" x=\"585\" y=\"-14.3\" font-family=\"Times New Roman,serif\" font-size=\"14.00\">2</text>\r\n",
       "</g>\r\n",
       "<!-- 0.5149658127045968&#45;&#45;0.2275112189989592 -->\r\n",
       "<g id=\"edge15\" class=\"edge\"><title>0.5149658127045968&#45;&#45;0.2275112189989592</title>\r\n",
       "<path fill=\"none\" stroke=\"black\" d=\"M557.531,-72.411C563.27,-61.2524 570.804,-46.6036 576.53,-35.4699\"/>\r\n",
       "</g>\r\n",
       "</g>\r\n",
       "</svg>\r\n"
      ],
      "text/plain": [
       "<graphviz.dot.Graph at 0x1e46dd2d710>"
      ]
     },
     "execution_count": 72,
     "metadata": {},
     "output_type": "execute_result"
    }
   ],
   "source": [
    "graf2 = Graph()\n",
    "\n",
    "build_graph(graf2, ast_stablo2)\n",
    "\n",
    "graf2"
   ]
  },
  {
   "cell_type": "markdown",
   "metadata": {},
   "source": [
    "## Zadatak 3"
   ]
  },
  {
   "cell_type": "markdown",
   "metadata": {},
   "source": [
    "Proširite programski kod tako da podržava IF-THEN-ELSE klauzulu:\n",
    "                    \n",
    "                    IF x==y THEN y/x ELSE x/y"
   ]
  },
  {
   "cell_type": "code",
   "execution_count": 73,
   "metadata": {},
   "outputs": [],
   "source": [
    "zadatak3 = '''\n",
    "x=10\n",
    "y=12\n",
    "IF x==y THEN y/x ELSE x/y\n",
    "'''"
   ]
  },
  {
   "cell_type": "code",
   "execution_count": 74,
   "metadata": {},
   "outputs": [
    {
     "name": "stdout",
     "output_type": "stream",
     "text": [
      "Prikaz izraza:\n",
      "IF x==y THEN y/x ELSE x/y \n",
      "\n",
      "Lista iniciranih varijabli i njihove vrijednosti:\n",
      "[('x', 10), ('y', 12)] \n",
      "\n",
      "Prikaz izraza gdje su varijable (ako postoje) zamijenjene s njihovim vrijednostima:\n",
      "IF 10==12 THEN 12/10 ELSE 10/12 \n",
      "\n",
      "Prikaz apstraktnog stabla u obliku ugnježđenih tuple struktura:\n",
      "('IF', (10, 'EQ', 12), (12, 'DIV', 10), (10, 'DIV', 12))\n"
     ]
    }
   ],
   "source": [
    "ast_stablo3 = parse_tree(zadatak3)"
   ]
  },
  {
   "cell_type": "code",
   "execution_count": 75,
   "metadata": {},
   "outputs": [
    {
     "data": {
      "image/svg+xml": [
       "<?xml version=\"1.0\" encoding=\"UTF-8\" standalone=\"no\"?>\r\n",
       "<!DOCTYPE svg PUBLIC \"-//W3C//DTD SVG 1.1//EN\"\r\n",
       " \"http://www.w3.org/Graphics/SVG/1.1/DTD/svg11.dtd\">\r\n",
       "<!-- Generated by graphviz version 2.38.0 (20140413.2041)\r\n",
       " -->\r\n",
       "<!-- Title: %3 Pages: 1 -->\r\n",
       "<svg width=\"354pt\" height=\"260pt\"\r\n",
       " viewBox=\"0.00 0.00 354.00 260.00\" xmlns=\"http://www.w3.org/2000/svg\" xmlns:xlink=\"http://www.w3.org/1999/xlink\">\r\n",
       "<g id=\"graph0\" class=\"graph\" transform=\"scale(1 1) rotate(0) translate(4 256)\">\r\n",
       "<title>%3</title>\r\n",
       "<polygon fill=\"white\" stroke=\"none\" points=\"-4,4 -4,-256 350,-256 350,4 -4,4\"/>\r\n",
       "<!-- if -->\r\n",
       "<g id=\"node1\" class=\"node\"><title>if</title>\r\n",
       "<ellipse fill=\"none\" stroke=\"black\" cx=\"174\" cy=\"-234\" rx=\"27\" ry=\"18\"/>\r\n",
       "<text text-anchor=\"middle\" x=\"174\" y=\"-230.3\" font-family=\"Times New Roman,serif\" font-size=\"14.00\">IF</text>\r\n",
       "</g>\r\n",
       "<!-- then -->\r\n",
       "<g id=\"node2\" class=\"node\"><title>then</title>\r\n",
       "<ellipse fill=\"none\" stroke=\"black\" cx=\"98\" cy=\"-162\" rx=\"27.8951\" ry=\"18\"/>\r\n",
       "<text text-anchor=\"middle\" x=\"98\" y=\"-158.3\" font-family=\"Times New Roman,serif\" font-size=\"14.00\">True</text>\r\n",
       "</g>\r\n",
       "<!-- if&#45;&#45;then -->\r\n",
       "<g id=\"edge1\" class=\"edge\"><title>if&#45;&#45;then</title>\r\n",
       "<path fill=\"none\" stroke=\"black\" d=\"M158.62,-218.834C145.435,-206.69 126.536,-189.283 113.357,-177.144\"/>\r\n",
       "</g>\r\n",
       "<!-- else -->\r\n",
       "<g id=\"node3\" class=\"node\"><title>else</title>\r\n",
       "<ellipse fill=\"none\" stroke=\"black\" cx=\"174\" cy=\"-162\" rx=\"29.795\" ry=\"18\"/>\r\n",
       "<text text-anchor=\"middle\" x=\"174\" y=\"-158.3\" font-family=\"Times New Roman,serif\" font-size=\"14.00\">False</text>\r\n",
       "</g>\r\n",
       "<!-- if&#45;&#45;else -->\r\n",
       "<g id=\"edge2\" class=\"edge\"><title>if&#45;&#45;else</title>\r\n",
       "<path fill=\"none\" stroke=\"black\" d=\"M174,-215.697C174,-204.846 174,-190.917 174,-180.104\"/>\r\n",
       "</g>\r\n",
       "<!-- 0.9538494103986983 -->\r\n",
       "<g id=\"node4\" class=\"node\"><title>0.9538494103986983</title>\r\n",
       "<ellipse fill=\"none\" stroke=\"black\" cx=\"249\" cy=\"-162\" rx=\"27\" ry=\"18\"/>\r\n",
       "<text text-anchor=\"middle\" x=\"249\" y=\"-158.3\" font-family=\"Times New Roman,serif\" font-size=\"14.00\">EQ</text>\r\n",
       "</g>\r\n",
       "<!-- if&#45;&#45;0.9538494103986983 -->\r\n",
       "<g id=\"edge5\" class=\"edge\"><title>if&#45;&#45;0.9538494103986983</title>\r\n",
       "<path fill=\"none\" stroke=\"black\" d=\"M189.177,-218.834C202.19,-206.69 220.84,-189.283 233.845,-177.144\"/>\r\n",
       "</g>\r\n",
       "<!-- 0.9366548821506857 -->\r\n",
       "<g id=\"node7\" class=\"node\"><title>0.9366548821506857</title>\r\n",
       "<ellipse fill=\"none\" stroke=\"black\" cx=\"98\" cy=\"-90\" rx=\"27\" ry=\"18\"/>\r\n",
       "<text text-anchor=\"middle\" x=\"98\" y=\"-86.3\" font-family=\"Times New Roman,serif\" font-size=\"14.00\">DIV</text>\r\n",
       "</g>\r\n",
       "<!-- then&#45;&#45;0.9366548821506857 -->\r\n",
       "<g id=\"edge8\" class=\"edge\"><title>then&#45;&#45;0.9366548821506857</title>\r\n",
       "<path fill=\"none\" stroke=\"black\" d=\"M98,-143.697C98,-132.846 98,-118.917 98,-108.104\"/>\r\n",
       "</g>\r\n",
       "<!-- 0.2507495453070928 -->\r\n",
       "<g id=\"node10\" class=\"node\"><title>0.2507495453070928</title>\r\n",
       "<ellipse fill=\"none\" stroke=\"black\" cx=\"174\" cy=\"-90\" rx=\"27\" ry=\"18\"/>\r\n",
       "<text text-anchor=\"middle\" x=\"174\" y=\"-86.3\" font-family=\"Times New Roman,serif\" font-size=\"14.00\">DIV</text>\r\n",
       "</g>\r\n",
       "<!-- else&#45;&#45;0.2507495453070928 -->\r\n",
       "<g id=\"edge11\" class=\"edge\"><title>else&#45;&#45;0.2507495453070928</title>\r\n",
       "<path fill=\"none\" stroke=\"black\" d=\"M174,-143.697C174,-132.846 174,-118.917 174,-108.104\"/>\r\n",
       "</g>\r\n",
       "<!-- 0.4554506511707772 -->\r\n",
       "<g id=\"node5\" class=\"node\"><title>0.4554506511707772</title>\r\n",
       "<ellipse fill=\"none\" stroke=\"black\" cx=\"247\" cy=\"-90\" rx=\"27\" ry=\"18\"/>\r\n",
       "<text text-anchor=\"middle\" x=\"247\" y=\"-86.3\" font-family=\"Times New Roman,serif\" font-size=\"14.00\">10</text>\r\n",
       "</g>\r\n",
       "<!-- 0.9538494103986983&#45;&#45;0.4554506511707772 -->\r\n",
       "<g id=\"edge3\" class=\"edge\"><title>0.9538494103986983&#45;&#45;0.4554506511707772</title>\r\n",
       "<path fill=\"none\" stroke=\"black\" d=\"M248.506,-143.697C248.196,-132.846 247.798,-118.917 247.489,-108.104\"/>\r\n",
       "</g>\r\n",
       "<!-- 0.19755178146065477 -->\r\n",
       "<g id=\"node6\" class=\"node\"><title>0.19755178146065477</title>\r\n",
       "<ellipse fill=\"none\" stroke=\"black\" cx=\"319\" cy=\"-90\" rx=\"27\" ry=\"18\"/>\r\n",
       "<text text-anchor=\"middle\" x=\"319\" y=\"-86.3\" font-family=\"Times New Roman,serif\" font-size=\"14.00\">12</text>\r\n",
       "</g>\r\n",
       "<!-- 0.9538494103986983&#45;&#45;0.19755178146065477 -->\r\n",
       "<g id=\"edge4\" class=\"edge\"><title>0.9538494103986983&#45;&#45;0.19755178146065477</title>\r\n",
       "<path fill=\"none\" stroke=\"black\" d=\"M263.504,-146.496C275.518,-134.482 292.506,-117.494 304.515,-105.485\"/>\r\n",
       "</g>\r\n",
       "<!-- 0.9943059733472108 -->\r\n",
       "<g id=\"node8\" class=\"node\"><title>0.9943059733472108</title>\r\n",
       "<ellipse fill=\"none\" stroke=\"black\" cx=\"27\" cy=\"-18\" rx=\"27\" ry=\"18\"/>\r\n",
       "<text text-anchor=\"middle\" x=\"27\" y=\"-14.3\" font-family=\"Times New Roman,serif\" font-size=\"14.00\">12</text>\r\n",
       "</g>\r\n",
       "<!-- 0.9366548821506857&#45;&#45;0.9943059733472108 -->\r\n",
       "<g id=\"edge6\" class=\"edge\"><title>0.9366548821506857&#45;&#45;0.9943059733472108</title>\r\n",
       "<path fill=\"none\" stroke=\"black\" d=\"M83.2888,-74.496C71.1034,-62.4822 53.8725,-45.4941 41.6924,-33.4855\"/>\r\n",
       "</g>\r\n",
       "<!-- 0.02715600460167089 -->\r\n",
       "<g id=\"node9\" class=\"node\"><title>0.02715600460167089</title>\r\n",
       "<ellipse fill=\"none\" stroke=\"black\" cx=\"99\" cy=\"-18\" rx=\"27\" ry=\"18\"/>\r\n",
       "<text text-anchor=\"middle\" x=\"99\" y=\"-14.3\" font-family=\"Times New Roman,serif\" font-size=\"14.00\">10</text>\r\n",
       "</g>\r\n",
       "<!-- 0.9366548821506857&#45;&#45;0.02715600460167089 -->\r\n",
       "<g id=\"edge7\" class=\"edge\"><title>0.9366548821506857&#45;&#45;0.02715600460167089</title>\r\n",
       "<path fill=\"none\" stroke=\"black\" d=\"M98.2472,-71.6966C98.4022,-60.8463 98.6012,-46.9167 98.7557,-36.1043\"/>\r\n",
       "</g>\r\n",
       "<!-- 0.694943915140424 -->\r\n",
       "<g id=\"node11\" class=\"node\"><title>0.694943915140424</title>\r\n",
       "<ellipse fill=\"none\" stroke=\"black\" cx=\"172\" cy=\"-18\" rx=\"27\" ry=\"18\"/>\r\n",
       "<text text-anchor=\"middle\" x=\"172\" y=\"-14.3\" font-family=\"Times New Roman,serif\" font-size=\"14.00\">10</text>\r\n",
       "</g>\r\n",
       "<!-- 0.2507495453070928&#45;&#45;0.694943915140424 -->\r\n",
       "<g id=\"edge9\" class=\"edge\"><title>0.2507495453070928&#45;&#45;0.694943915140424</title>\r\n",
       "<path fill=\"none\" stroke=\"black\" d=\"M173.506,-71.6966C173.196,-60.8463 172.798,-46.9167 172.489,-36.1043\"/>\r\n",
       "</g>\r\n",
       "<!-- 0.08584281209633304 -->\r\n",
       "<g id=\"node12\" class=\"node\"><title>0.08584281209633304</title>\r\n",
       "<ellipse fill=\"none\" stroke=\"black\" cx=\"244\" cy=\"-18\" rx=\"27\" ry=\"18\"/>\r\n",
       "<text text-anchor=\"middle\" x=\"244\" y=\"-14.3\" font-family=\"Times New Roman,serif\" font-size=\"14.00\">12</text>\r\n",
       "</g>\r\n",
       "<!-- 0.2507495453070928&#45;&#45;0.08584281209633304 -->\r\n",
       "<g id=\"edge10\" class=\"edge\"><title>0.2507495453070928&#45;&#45;0.08584281209633304</title>\r\n",
       "<path fill=\"none\" stroke=\"black\" d=\"M188.504,-74.496C200.518,-62.4822 217.506,-45.4941 229.515,-33.4855\"/>\r\n",
       "</g>\r\n",
       "</g>\r\n",
       "</svg>\r\n"
      ],
      "text/plain": [
       "<graphviz.dot.Graph at 0x1e46dd2d518>"
      ]
     },
     "execution_count": 75,
     "metadata": {},
     "output_type": "execute_result"
    }
   ],
   "source": [
    "graf3 = Graph()\n",
    "\n",
    "build_if(graf3, ast_stablo3)\n",
    "\n",
    "graf3"
   ]
  },
  {
   "cell_type": "markdown",
   "metadata": {},
   "source": [
    "## Zadatak 4"
   ]
  },
  {
   "cell_type": "markdown",
   "metadata": {},
   "source": [
    "Proširiti program tako da podržava sljedeću funkcionalnost:\n",
    "* Ugraditi dodatne operacije:\n",
    "    * Modularno dijeljenje\n",
    "    * Ostali operatori uspoređivanja (<, >, !=, <=, >=)"
   ]
  },
  {
   "cell_type": "code",
   "execution_count": 76,
   "metadata": {},
   "outputs": [],
   "source": [
    "zadatak4='''\n",
    "2<3\n",
    "5>4\n",
    "3!=22\n",
    "1<=1\n",
    "6>=9\n",
    "10%2\n",
    "'''"
   ]
  },
  {
   "cell_type": "code",
   "execution_count": 77,
   "metadata": {},
   "outputs": [
    {
     "name": "stdout",
     "output_type": "stream",
     "text": [
      "Prikaz izraza:\n",
      "2<3 \n",
      "\n",
      "Lista iniciranih varijabli i njihove vrijednosti:\n",
      "[] \n",
      "\n",
      "Prikaz izraza gdje su varijable (ako postoje) zamijenjene s njihovim vrijednostima:\n",
      "2<3 \n",
      "\n",
      "Prikaz apstraktnog stabla u obliku ugnježđenih tuple struktura:\n",
      "(2, 'LESSTH', 3)\n",
      "Prikaz izraza:\n",
      "5>4 \n",
      "\n",
      "Lista iniciranih varijabli i njihove vrijednosti:\n",
      "[] \n",
      "\n",
      "Prikaz izraza gdje su varijable (ako postoje) zamijenjene s njihovim vrijednostima:\n",
      "5>4 \n",
      "\n",
      "Prikaz apstraktnog stabla u obliku ugnježđenih tuple struktura:\n",
      "(5, 'GREATTH', 4)\n",
      "Prikaz izraza:\n",
      "3!=22 \n",
      "\n",
      "Lista iniciranih varijabli i njihove vrijednosti:\n",
      "[] \n",
      "\n",
      "Prikaz izraza gdje su varijable (ako postoje) zamijenjene s njihovim vrijednostima:\n",
      "3!=22 \n",
      "\n",
      "Prikaz apstraktnog stabla u obliku ugnježđenih tuple struktura:\n",
      "(3, 'NEQ', 22)\n",
      "Prikaz izraza:\n",
      "1<=1 \n",
      "\n",
      "Lista iniciranih varijabli i njihove vrijednosti:\n",
      "[] \n",
      "\n",
      "Prikaz izraza gdje su varijable (ako postoje) zamijenjene s njihovim vrijednostima:\n",
      "1<=1 \n",
      "\n",
      "Prikaz apstraktnog stabla u obliku ugnježđenih tuple struktura:\n",
      "(1, 'LESSEQ', 1)\n",
      "Prikaz izraza:\n",
      "6>=9 \n",
      "\n",
      "Lista iniciranih varijabli i njihove vrijednosti:\n",
      "[] \n",
      "\n",
      "Prikaz izraza gdje su varijable (ako postoje) zamijenjene s njihovim vrijednostima:\n",
      "6>=9 \n",
      "\n",
      "Prikaz apstraktnog stabla u obliku ugnježđenih tuple struktura:\n",
      "(6, 'GREATEQ', 9)\n",
      "Prikaz izraza:\n",
      "10%2 \n",
      "\n",
      "Lista iniciranih varijabli i njihove vrijednosti:\n",
      "[] \n",
      "\n",
      "Prikaz izraza gdje su varijable (ako postoje) zamijenjene s njihovim vrijednostima:\n",
      "10%2 \n",
      "\n",
      "Prikaz apstraktnog stabla u obliku ugnježđenih tuple struktura:\n",
      "(10, 'MOD', 2)\n"
     ]
    }
   ],
   "source": [
    "stabla = []\n",
    "\n",
    "zadatak4 = zadatak4.split('\\n')\n",
    "zadatak4 = filter(None, zadatak4)\n",
    "\n",
    "for linija in zadatak4:\n",
    "    stabla.append(parse_tree(linija))"
   ]
  },
  {
   "cell_type": "code",
   "execution_count": 78,
   "metadata": {},
   "outputs": [
    {
     "data": {
      "image/svg+xml": [
       "<?xml version=\"1.0\" encoding=\"UTF-8\" standalone=\"no\"?>\r\n",
       "<!DOCTYPE svg PUBLIC \"-//W3C//DTD SVG 1.1//EN\"\r\n",
       " \"http://www.w3.org/Graphics/SVG/1.1/DTD/svg11.dtd\">\r\n",
       "<!-- Generated by graphviz version 2.38.0 (20140413.2041)\r\n",
       " -->\r\n",
       "<!-- Title: %3 Pages: 1 -->\r\n",
       "<svg width=\"134pt\" height=\"116pt\"\r\n",
       " viewBox=\"0.00 0.00 134.00 116.00\" xmlns=\"http://www.w3.org/2000/svg\" xmlns:xlink=\"http://www.w3.org/1999/xlink\">\r\n",
       "<g id=\"graph0\" class=\"graph\" transform=\"scale(1 1) rotate(0) translate(4 112)\">\r\n",
       "<title>%3</title>\r\n",
       "<polygon fill=\"white\" stroke=\"none\" points=\"-4,4 -4,-112 130,-112 130,4 -4,4\"/>\r\n",
       "<!-- 0.639233346387751 -->\r\n",
       "<g id=\"node1\" class=\"node\"><title>0.639233346387751</title>\r\n",
       "<ellipse fill=\"none\" stroke=\"black\" cx=\"63\" cy=\"-90\" rx=\"44.393\" ry=\"18\"/>\r\n",
       "<text text-anchor=\"middle\" x=\"63\" y=\"-86.3\" font-family=\"Times New Roman,serif\" font-size=\"14.00\">LESSTH</text>\r\n",
       "</g>\r\n",
       "<!-- 0.8134529378699276 -->\r\n",
       "<g id=\"node2\" class=\"node\"><title>0.8134529378699276</title>\r\n",
       "<ellipse fill=\"none\" stroke=\"black\" cx=\"27\" cy=\"-18\" rx=\"27\" ry=\"18\"/>\r\n",
       "<text text-anchor=\"middle\" x=\"27\" y=\"-14.3\" font-family=\"Times New Roman,serif\" font-size=\"14.00\">2</text>\r\n",
       "</g>\r\n",
       "<!-- 0.639233346387751&#45;&#45;0.8134529378699276 -->\r\n",
       "<g id=\"edge1\" class=\"edge\"><title>0.639233346387751&#45;&#45;0.8134529378699276</title>\r\n",
       "<path fill=\"none\" stroke=\"black\" d=\"M54.2854,-72.055C48.5421,-60.8874 41.0619,-46.3427 35.3865,-35.307\"/>\r\n",
       "</g>\r\n",
       "<!-- 0.8134261317361269 -->\r\n",
       "<g id=\"node3\" class=\"node\"><title>0.8134261317361269</title>\r\n",
       "<ellipse fill=\"none\" stroke=\"black\" cx=\"99\" cy=\"-18\" rx=\"27\" ry=\"18\"/>\r\n",
       "<text text-anchor=\"middle\" x=\"99\" y=\"-14.3\" font-family=\"Times New Roman,serif\" font-size=\"14.00\">3</text>\r\n",
       "</g>\r\n",
       "<!-- 0.639233346387751&#45;&#45;0.8134261317361269 -->\r\n",
       "<g id=\"edge2\" class=\"edge\"><title>0.639233346387751&#45;&#45;0.8134261317361269</title>\r\n",
       "<path fill=\"none\" stroke=\"black\" d=\"M71.7146,-72.055C77.4579,-60.8874 84.9381,-46.3427 90.6135,-35.307\"/>\r\n",
       "</g>\r\n",
       "</g>\r\n",
       "</svg>\r\n"
      ],
      "text/plain": [
       "<graphviz.dot.Graph at 0x1e46dadb0f0>"
      ]
     },
     "execution_count": 78,
     "metadata": {},
     "output_type": "execute_result"
    }
   ],
   "source": [
    "graf = Graph()\n",
    "build_graph(graf, stabla[0])\n",
    "graf"
   ]
  },
  {
   "cell_type": "code",
   "execution_count": 79,
   "metadata": {},
   "outputs": [
    {
     "data": {
      "image/svg+xml": [
       "<?xml version=\"1.0\" encoding=\"UTF-8\" standalone=\"no\"?>\r\n",
       "<!DOCTYPE svg PUBLIC \"-//W3C//DTD SVG 1.1//EN\"\r\n",
       " \"http://www.w3.org/Graphics/SVG/1.1/DTD/svg11.dtd\">\r\n",
       "<!-- Generated by graphviz version 2.38.0 (20140413.2041)\r\n",
       " -->\r\n",
       "<!-- Title: %3 Pages: 1 -->\r\n",
       "<svg width=\"134pt\" height=\"116pt\"\r\n",
       " viewBox=\"0.00 0.00 134.00 116.00\" xmlns=\"http://www.w3.org/2000/svg\" xmlns:xlink=\"http://www.w3.org/1999/xlink\">\r\n",
       "<g id=\"graph0\" class=\"graph\" transform=\"scale(1 1) rotate(0) translate(4 112)\">\r\n",
       "<title>%3</title>\r\n",
       "<polygon fill=\"white\" stroke=\"none\" points=\"-4,4 -4,-112 130,-112 130,4 -4,4\"/>\r\n",
       "<!-- 0.31528837237230034 -->\r\n",
       "<g id=\"node1\" class=\"node\"><title>0.31528837237230034</title>\r\n",
       "<ellipse fill=\"none\" stroke=\"black\" cx=\"63\" cy=\"-90\" rx=\"53.8905\" ry=\"18\"/>\r\n",
       "<text text-anchor=\"middle\" x=\"63\" y=\"-86.3\" font-family=\"Times New Roman,serif\" font-size=\"14.00\">GREATTH</text>\r\n",
       "</g>\r\n",
       "<!-- 0.010084248836188192 -->\r\n",
       "<g id=\"node2\" class=\"node\"><title>0.010084248836188192</title>\r\n",
       "<ellipse fill=\"none\" stroke=\"black\" cx=\"27\" cy=\"-18\" rx=\"27\" ry=\"18\"/>\r\n",
       "<text text-anchor=\"middle\" x=\"27\" y=\"-14.3\" font-family=\"Times New Roman,serif\" font-size=\"14.00\">5</text>\r\n",
       "</g>\r\n",
       "<!-- 0.31528837237230034&#45;&#45;0.010084248836188192 -->\r\n",
       "<g id=\"edge1\" class=\"edge\"><title>0.31528837237230034&#45;&#45;0.010084248836188192</title>\r\n",
       "<path fill=\"none\" stroke=\"black\" d=\"M54.2854,-72.055C48.5421,-60.8874 41.0619,-46.3427 35.3865,-35.307\"/>\r\n",
       "</g>\r\n",
       "<!-- 0.4086320277084253 -->\r\n",
       "<g id=\"node3\" class=\"node\"><title>0.4086320277084253</title>\r\n",
       "<ellipse fill=\"none\" stroke=\"black\" cx=\"99\" cy=\"-18\" rx=\"27\" ry=\"18\"/>\r\n",
       "<text text-anchor=\"middle\" x=\"99\" y=\"-14.3\" font-family=\"Times New Roman,serif\" font-size=\"14.00\">4</text>\r\n",
       "</g>\r\n",
       "<!-- 0.31528837237230034&#45;&#45;0.4086320277084253 -->\r\n",
       "<g id=\"edge2\" class=\"edge\"><title>0.31528837237230034&#45;&#45;0.4086320277084253</title>\r\n",
       "<path fill=\"none\" stroke=\"black\" d=\"M71.7146,-72.055C77.4579,-60.8874 84.9381,-46.3427 90.6135,-35.307\"/>\r\n",
       "</g>\r\n",
       "</g>\r\n",
       "</svg>\r\n"
      ],
      "text/plain": [
       "<graphviz.dot.Graph at 0x1e46dd25e10>"
      ]
     },
     "execution_count": 79,
     "metadata": {},
     "output_type": "execute_result"
    }
   ],
   "source": [
    "graf = Graph()\n",
    "build_graph(graf, stabla[1])\n",
    "graf"
   ]
  },
  {
   "cell_type": "code",
   "execution_count": 80,
   "metadata": {},
   "outputs": [
    {
     "data": {
      "image/svg+xml": [
       "<?xml version=\"1.0\" encoding=\"UTF-8\" standalone=\"no\"?>\r\n",
       "<!DOCTYPE svg PUBLIC \"-//W3C//DTD SVG 1.1//EN\"\r\n",
       " \"http://www.w3.org/Graphics/SVG/1.1/DTD/svg11.dtd\">\r\n",
       "<!-- Generated by graphviz version 2.38.0 (20140413.2041)\r\n",
       " -->\r\n",
       "<!-- Title: %3 Pages: 1 -->\r\n",
       "<svg width=\"134pt\" height=\"116pt\"\r\n",
       " viewBox=\"0.00 0.00 134.00 116.00\" xmlns=\"http://www.w3.org/2000/svg\" xmlns:xlink=\"http://www.w3.org/1999/xlink\">\r\n",
       "<g id=\"graph0\" class=\"graph\" transform=\"scale(1 1) rotate(0) translate(4 112)\">\r\n",
       "<title>%3</title>\r\n",
       "<polygon fill=\"white\" stroke=\"none\" points=\"-4,4 -4,-112 130,-112 130,4 -4,4\"/>\r\n",
       "<!-- 0.2385321337372699 -->\r\n",
       "<g id=\"node1\" class=\"node\"><title>0.2385321337372699</title>\r\n",
       "<ellipse fill=\"none\" stroke=\"black\" cx=\"63\" cy=\"-90\" rx=\"29.4969\" ry=\"18\"/>\r\n",
       "<text text-anchor=\"middle\" x=\"63\" y=\"-86.3\" font-family=\"Times New Roman,serif\" font-size=\"14.00\">NEQ</text>\r\n",
       "</g>\r\n",
       "<!-- 0.6466528617758279 -->\r\n",
       "<g id=\"node2\" class=\"node\"><title>0.6466528617758279</title>\r\n",
       "<ellipse fill=\"none\" stroke=\"black\" cx=\"27\" cy=\"-18\" rx=\"27\" ry=\"18\"/>\r\n",
       "<text text-anchor=\"middle\" x=\"27\" y=\"-14.3\" font-family=\"Times New Roman,serif\" font-size=\"14.00\">3</text>\r\n",
       "</g>\r\n",
       "<!-- 0.2385321337372699&#45;&#45;0.6466528617758279 -->\r\n",
       "<g id=\"edge1\" class=\"edge\"><title>0.2385321337372699&#45;&#45;0.6466528617758279</title>\r\n",
       "<path fill=\"none\" stroke=\"black\" d=\"M54.4685,-72.411C48.7298,-61.2524 41.1961,-46.6036 35.4703,-35.4699\"/>\r\n",
       "</g>\r\n",
       "<!-- 0.6378354744842378 -->\r\n",
       "<g id=\"node3\" class=\"node\"><title>0.6378354744842378</title>\r\n",
       "<ellipse fill=\"none\" stroke=\"black\" cx=\"99\" cy=\"-18\" rx=\"27\" ry=\"18\"/>\r\n",
       "<text text-anchor=\"middle\" x=\"99\" y=\"-14.3\" font-family=\"Times New Roman,serif\" font-size=\"14.00\">22</text>\r\n",
       "</g>\r\n",
       "<!-- 0.2385321337372699&#45;&#45;0.6378354744842378 -->\r\n",
       "<g id=\"edge2\" class=\"edge\"><title>0.2385321337372699&#45;&#45;0.6378354744842378</title>\r\n",
       "<path fill=\"none\" stroke=\"black\" d=\"M71.5315,-72.411C77.2702,-61.2524 84.8039,-46.6036 90.5297,-35.4699\"/>\r\n",
       "</g>\r\n",
       "</g>\r\n",
       "</svg>\r\n"
      ],
      "text/plain": [
       "<graphviz.dot.Graph at 0x1e46dd2d550>"
      ]
     },
     "execution_count": 80,
     "metadata": {},
     "output_type": "execute_result"
    }
   ],
   "source": [
    "graf = Graph()\n",
    "build_graph(graf, stabla[2])\n",
    "graf"
   ]
  },
  {
   "cell_type": "code",
   "execution_count": 81,
   "metadata": {},
   "outputs": [
    {
     "data": {
      "image/svg+xml": [
       "<?xml version=\"1.0\" encoding=\"UTF-8\" standalone=\"no\"?>\r\n",
       "<!DOCTYPE svg PUBLIC \"-//W3C//DTD SVG 1.1//EN\"\r\n",
       " \"http://www.w3.org/Graphics/SVG/1.1/DTD/svg11.dtd\">\r\n",
       "<!-- Generated by graphviz version 2.38.0 (20140413.2041)\r\n",
       " -->\r\n",
       "<!-- Title: %3 Pages: 1 -->\r\n",
       "<svg width=\"134pt\" height=\"116pt\"\r\n",
       " viewBox=\"0.00 0.00 134.00 116.00\" xmlns=\"http://www.w3.org/2000/svg\" xmlns:xlink=\"http://www.w3.org/1999/xlink\">\r\n",
       "<g id=\"graph0\" class=\"graph\" transform=\"scale(1 1) rotate(0) translate(4 112)\">\r\n",
       "<title>%3</title>\r\n",
       "<polygon fill=\"white\" stroke=\"none\" points=\"-4,4 -4,-112 130,-112 130,4 -4,4\"/>\r\n",
       "<!-- 0.6355162860357182 -->\r\n",
       "<g id=\"node1\" class=\"node\"><title>0.6355162860357182</title>\r\n",
       "<ellipse fill=\"none\" stroke=\"black\" cx=\"63\" cy=\"-90\" rx=\"44.393\" ry=\"18\"/>\r\n",
       "<text text-anchor=\"middle\" x=\"63\" y=\"-86.3\" font-family=\"Times New Roman,serif\" font-size=\"14.00\">LESSEQ</text>\r\n",
       "</g>\r\n",
       "<!-- 0.18312057617887012 -->\r\n",
       "<g id=\"node2\" class=\"node\"><title>0.18312057617887012</title>\r\n",
       "<ellipse fill=\"none\" stroke=\"black\" cx=\"27\" cy=\"-18\" rx=\"27\" ry=\"18\"/>\r\n",
       "<text text-anchor=\"middle\" x=\"27\" y=\"-14.3\" font-family=\"Times New Roman,serif\" font-size=\"14.00\">1</text>\r\n",
       "</g>\r\n",
       "<!-- 0.6355162860357182&#45;&#45;0.18312057617887012 -->\r\n",
       "<g id=\"edge1\" class=\"edge\"><title>0.6355162860357182&#45;&#45;0.18312057617887012</title>\r\n",
       "<path fill=\"none\" stroke=\"black\" d=\"M54.2854,-72.055C48.5421,-60.8874 41.0619,-46.3427 35.3865,-35.307\"/>\r\n",
       "</g>\r\n",
       "<!-- 0.34645360410448833 -->\r\n",
       "<g id=\"node3\" class=\"node\"><title>0.34645360410448833</title>\r\n",
       "<ellipse fill=\"none\" stroke=\"black\" cx=\"99\" cy=\"-18\" rx=\"27\" ry=\"18\"/>\r\n",
       "<text text-anchor=\"middle\" x=\"99\" y=\"-14.3\" font-family=\"Times New Roman,serif\" font-size=\"14.00\">1</text>\r\n",
       "</g>\r\n",
       "<!-- 0.6355162860357182&#45;&#45;0.34645360410448833 -->\r\n",
       "<g id=\"edge2\" class=\"edge\"><title>0.6355162860357182&#45;&#45;0.34645360410448833</title>\r\n",
       "<path fill=\"none\" stroke=\"black\" d=\"M71.7146,-72.055C77.4579,-60.8874 84.9381,-46.3427 90.6135,-35.307\"/>\r\n",
       "</g>\r\n",
       "</g>\r\n",
       "</svg>\r\n"
      ],
      "text/plain": [
       "<graphviz.dot.Graph at 0x1e46dd2d780>"
      ]
     },
     "execution_count": 81,
     "metadata": {},
     "output_type": "execute_result"
    }
   ],
   "source": [
    "graf = Graph()\n",
    "build_graph(graf, stabla[3])\n",
    "graf"
   ]
  },
  {
   "cell_type": "code",
   "execution_count": 82,
   "metadata": {},
   "outputs": [
    {
     "data": {
      "image/svg+xml": [
       "<?xml version=\"1.0\" encoding=\"UTF-8\" standalone=\"no\"?>\r\n",
       "<!DOCTYPE svg PUBLIC \"-//W3C//DTD SVG 1.1//EN\"\r\n",
       " \"http://www.w3.org/Graphics/SVG/1.1/DTD/svg11.dtd\">\r\n",
       "<!-- Generated by graphviz version 2.38.0 (20140413.2041)\r\n",
       " -->\r\n",
       "<!-- Title: %3 Pages: 1 -->\r\n",
       "<svg width=\"134pt\" height=\"116pt\"\r\n",
       " viewBox=\"0.00 0.00 134.00 116.00\" xmlns=\"http://www.w3.org/2000/svg\" xmlns:xlink=\"http://www.w3.org/1999/xlink\">\r\n",
       "<g id=\"graph0\" class=\"graph\" transform=\"scale(1 1) rotate(0) translate(4 112)\">\r\n",
       "<title>%3</title>\r\n",
       "<polygon fill=\"white\" stroke=\"none\" points=\"-4,4 -4,-112 130,-112 130,4 -4,4\"/>\r\n",
       "<!-- 0.8346551949164221 -->\r\n",
       "<g id=\"node1\" class=\"node\"><title>0.8346551949164221</title>\r\n",
       "<ellipse fill=\"none\" stroke=\"black\" cx=\"63\" cy=\"-90\" rx=\"53.8905\" ry=\"18\"/>\r\n",
       "<text text-anchor=\"middle\" x=\"63\" y=\"-86.3\" font-family=\"Times New Roman,serif\" font-size=\"14.00\">GREATEQ</text>\r\n",
       "</g>\r\n",
       "<!-- 0.3228329001006449 -->\r\n",
       "<g id=\"node2\" class=\"node\"><title>0.3228329001006449</title>\r\n",
       "<ellipse fill=\"none\" stroke=\"black\" cx=\"27\" cy=\"-18\" rx=\"27\" ry=\"18\"/>\r\n",
       "<text text-anchor=\"middle\" x=\"27\" y=\"-14.3\" font-family=\"Times New Roman,serif\" font-size=\"14.00\">6</text>\r\n",
       "</g>\r\n",
       "<!-- 0.8346551949164221&#45;&#45;0.3228329001006449 -->\r\n",
       "<g id=\"edge1\" class=\"edge\"><title>0.8346551949164221&#45;&#45;0.3228329001006449</title>\r\n",
       "<path fill=\"none\" stroke=\"black\" d=\"M54.2854,-72.055C48.5421,-60.8874 41.0619,-46.3427 35.3865,-35.307\"/>\r\n",
       "</g>\r\n",
       "<!-- 0.7261466943144798 -->\r\n",
       "<g id=\"node3\" class=\"node\"><title>0.7261466943144798</title>\r\n",
       "<ellipse fill=\"none\" stroke=\"black\" cx=\"99\" cy=\"-18\" rx=\"27\" ry=\"18\"/>\r\n",
       "<text text-anchor=\"middle\" x=\"99\" y=\"-14.3\" font-family=\"Times New Roman,serif\" font-size=\"14.00\">9</text>\r\n",
       "</g>\r\n",
       "<!-- 0.8346551949164221&#45;&#45;0.7261466943144798 -->\r\n",
       "<g id=\"edge2\" class=\"edge\"><title>0.8346551949164221&#45;&#45;0.7261466943144798</title>\r\n",
       "<path fill=\"none\" stroke=\"black\" d=\"M71.7146,-72.055C77.4579,-60.8874 84.9381,-46.3427 90.6135,-35.307\"/>\r\n",
       "</g>\r\n",
       "</g>\r\n",
       "</svg>\r\n"
      ],
      "text/plain": [
       "<graphviz.dot.Graph at 0x1e46dd2deb8>"
      ]
     },
     "execution_count": 82,
     "metadata": {},
     "output_type": "execute_result"
    }
   ],
   "source": [
    "graf = Graph()\n",
    "build_graph(graf, stabla[4])\n",
    "graf"
   ]
  },
  {
   "cell_type": "code",
   "execution_count": 83,
   "metadata": {
    "scrolled": true
   },
   "outputs": [
    {
     "data": {
      "image/svg+xml": [
       "<?xml version=\"1.0\" encoding=\"UTF-8\" standalone=\"no\"?>\r\n",
       "<!DOCTYPE svg PUBLIC \"-//W3C//DTD SVG 1.1//EN\"\r\n",
       " \"http://www.w3.org/Graphics/SVG/1.1/DTD/svg11.dtd\">\r\n",
       "<!-- Generated by graphviz version 2.38.0 (20140413.2041)\r\n",
       " -->\r\n",
       "<!-- Title: %3 Pages: 1 -->\r\n",
       "<svg width=\"134pt\" height=\"116pt\"\r\n",
       " viewBox=\"0.00 0.00 134.00 116.00\" xmlns=\"http://www.w3.org/2000/svg\" xmlns:xlink=\"http://www.w3.org/1999/xlink\">\r\n",
       "<g id=\"graph0\" class=\"graph\" transform=\"scale(1 1) rotate(0) translate(4 112)\">\r\n",
       "<title>%3</title>\r\n",
       "<polygon fill=\"white\" stroke=\"none\" points=\"-4,4 -4,-112 130,-112 130,4 -4,4\"/>\r\n",
       "<!-- 0.782879911461704 -->\r\n",
       "<g id=\"node1\" class=\"node\"><title>0.782879911461704</title>\r\n",
       "<ellipse fill=\"none\" stroke=\"black\" cx=\"63\" cy=\"-90\" rx=\"31.6951\" ry=\"18\"/>\r\n",
       "<text text-anchor=\"middle\" x=\"63\" y=\"-86.3\" font-family=\"Times New Roman,serif\" font-size=\"14.00\">MOD</text>\r\n",
       "</g>\r\n",
       "<!-- 0.7931348998423194 -->\r\n",
       "<g id=\"node2\" class=\"node\"><title>0.7931348998423194</title>\r\n",
       "<ellipse fill=\"none\" stroke=\"black\" cx=\"27\" cy=\"-18\" rx=\"27\" ry=\"18\"/>\r\n",
       "<text text-anchor=\"middle\" x=\"27\" y=\"-14.3\" font-family=\"Times New Roman,serif\" font-size=\"14.00\">10</text>\r\n",
       "</g>\r\n",
       "<!-- 0.782879911461704&#45;&#45;0.7931348998423194 -->\r\n",
       "<g id=\"edge1\" class=\"edge\"><title>0.782879911461704&#45;&#45;0.7931348998423194</title>\r\n",
       "<path fill=\"none\" stroke=\"black\" d=\"M54.4685,-72.411C48.7298,-61.2524 41.1961,-46.6036 35.4703,-35.4699\"/>\r\n",
       "</g>\r\n",
       "<!-- 0.36486581972765286 -->\r\n",
       "<g id=\"node3\" class=\"node\"><title>0.36486581972765286</title>\r\n",
       "<ellipse fill=\"none\" stroke=\"black\" cx=\"99\" cy=\"-18\" rx=\"27\" ry=\"18\"/>\r\n",
       "<text text-anchor=\"middle\" x=\"99\" y=\"-14.3\" font-family=\"Times New Roman,serif\" font-size=\"14.00\">2</text>\r\n",
       "</g>\r\n",
       "<!-- 0.782879911461704&#45;&#45;0.36486581972765286 -->\r\n",
       "<g id=\"edge2\" class=\"edge\"><title>0.782879911461704&#45;&#45;0.36486581972765286</title>\r\n",
       "<path fill=\"none\" stroke=\"black\" d=\"M71.5315,-72.411C77.2702,-61.2524 84.8039,-46.6036 90.5297,-35.4699\"/>\r\n",
       "</g>\r\n",
       "</g>\r\n",
       "</svg>\r\n"
      ],
      "text/plain": [
       "<graphviz.dot.Graph at 0x1e46dd2def0>"
      ]
     },
     "execution_count": 83,
     "metadata": {},
     "output_type": "execute_result"
    }
   ],
   "source": [
    "graf = Graph()\n",
    "build_graph(graf, stabla[5])\n",
    "graf"
   ]
  }
 ],
 "metadata": {
  "kernelspec": {
   "display_name": "Python 3",
   "language": "python",
   "name": "python3"
  },
  "language_info": {
   "codemirror_mode": {
    "name": "ipython",
    "version": 3
   },
   "file_extension": ".py",
   "mimetype": "text/x-python",
   "name": "python",
   "nbconvert_exporter": "python",
   "pygments_lexer": "ipython3",
   "version": "3.6.8"
  },
  "toc": {
   "base_numbering": 1,
   "nav_menu": {},
   "number_sections": true,
   "sideBar": true,
   "skip_h1_title": false,
   "title_cell": "Table of Contents",
   "title_sidebar": "Sadržaj",
   "toc_cell": false,
   "toc_position": {
    "height": "calc(100% - 180px)",
    "left": "10px",
    "top": "150px",
    "width": "250.355px"
   },
   "toc_section_display": true,
   "toc_window_display": true
  },
  "varInspector": {
   "cols": {
    "lenName": 16,
    "lenType": 16,
    "lenVar": 40
   },
   "kernels_config": {
    "python": {
     "delete_cmd_postfix": "",
     "delete_cmd_prefix": "del ",
     "library": "var_list.py",
     "varRefreshCmd": "print(var_dic_list())"
    },
    "r": {
     "delete_cmd_postfix": ") ",
     "delete_cmd_prefix": "rm(",
     "library": "var_list.r",
     "varRefreshCmd": "cat(var_dic_list()) "
    }
   },
   "position": {
    "height": "455px",
    "left": "299.994px",
    "right": "20px",
    "top": "159.997px",
    "width": "716.989px"
   },
   "types_to_exclude": [
    "module",
    "function",
    "builtin_function_or_method",
    "instance",
    "_Feature"
   ],
   "window_display": false
  }
 },
 "nbformat": 4,
 "nbformat_minor": 2
}
